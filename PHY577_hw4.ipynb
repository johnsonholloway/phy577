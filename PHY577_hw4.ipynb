{
 "cells": [
  {
   "cell_type": "code",
   "execution_count": 8,
   "metadata": {
    "collapsed": false
   },
   "outputs": [],
   "source": [
    "import numpy as np\n",
    "import matplotlib.pyplot as plt\n",
    "from matplotlib.dates import date2num\n",
    "import stickplots \n",
    "import pandas as pd\n",
    "import netCDF4\n",
    "from netCDF4 import Dataset\n"
   ]
  },
  {
   "cell_type": "code",
   "execution_count": 9,
   "metadata": {
    "collapsed": true
   },
   "outputs": [],
   "source": [
    "fname1='/Users/johnH/Documents/Python_notebooks/5904785/5904785_Rtraj.nc'\n",
    "fname2='/Users/johnH/Documents/Python_notebooks/6900381/6900381_Rtraj.nc'"
   ]
  },
  {
   "cell_type": "code",
   "execution_count": 10,
   "metadata": {
    "collapsed": true
   },
   "outputs": [],
   "source": [
    "fh1 = Dataset(fname1, mode='r')\n",
    "fh2= Dataset(fname2, mode='r')"
   ]
  },
  {
   "cell_type": "code",
   "execution_count": 11,
   "metadata": {
    "collapsed": false
   },
   "outputs": [
    {
     "data": {
      "text/plain": [
       "<type 'netCDF4._netCDF4.Dataset'>\n",
       "root group (NETCDF3_CLASSIC data model, file format NETCDF3):\n",
       "    title: Argo float trajectory file\n",
       "    institution: AOML\n",
       "    source: Argo float\n",
       "    history: 2016-09-13T18:33:00Z creation\n",
       "    references: http://www.argodatamgt.org/Documentation\n",
       "    comment: free text\n",
       "    user_manual_version: 3.1\n",
       "    Conventions: Argo-3.1 CF-1.6\n",
       "    featureType: trajectory\n",
       "    dimensions(sizes): DATE_TIME(14), STRING64(64), STRING32(32), STRING16(16), STRING8(8), STRING4(4), STRING2(2), N_PARAM(3), N_CYCLE(2), N_HISTORY(25), N_MEASUREMENT(18)\n",
       "    variables(dimensions): |S1 \u001b[4mDATA_TYPE\u001b[0m(STRING16), |S1 \u001b[4mFORMAT_VERSION\u001b[0m(STRING4), |S1 \u001b[4mHANDBOOK_VERSION\u001b[0m(STRING4), |S1 \u001b[4mREFERENCE_DATE_TIME\u001b[0m(DATE_TIME), |S1 \u001b[4mDATE_CREATION\u001b[0m(DATE_TIME), |S1 \u001b[4mDATE_UPDATE\u001b[0m(DATE_TIME), |S1 \u001b[4mPLATFORM_NUMBER\u001b[0m(STRING8), |S1 \u001b[4mPROJECT_NAME\u001b[0m(STRING64), |S1 \u001b[4mPI_NAME\u001b[0m(STRING64), |S1 \u001b[4mTRAJECTORY_PARAMETERS\u001b[0m(N_PARAM,STRING16), |S1 \u001b[4mDATA_CENTRE\u001b[0m(STRING2), |S1 \u001b[4mDATA_STATE_INDICATOR\u001b[0m(STRING4), |S1 \u001b[4mPLATFORM_TYPE\u001b[0m(STRING32), |S1 \u001b[4mFLOAT_SERIAL_NO\u001b[0m(STRING32), |S1 \u001b[4mFIRMWARE_VERSION\u001b[0m(STRING32), |S1 \u001b[4mWMO_INST_TYPE\u001b[0m(STRING4), |S1 \u001b[4mPOSITIONING_SYSTEM\u001b[0m(STRING8), float64 \u001b[4mJULD\u001b[0m(N_MEASUREMENT), |S1 \u001b[4mJULD_STATUS\u001b[0m(N_MEASUREMENT), |S1 \u001b[4mJULD_QC\u001b[0m(N_MEASUREMENT), float64 \u001b[4mJULD_ADJUSTED\u001b[0m(N_MEASUREMENT), |S1 \u001b[4mJULD_ADJUSTED_STATUS\u001b[0m(N_MEASUREMENT), |S1 \u001b[4mJULD_ADJUSTED_QC\u001b[0m(N_MEASUREMENT), float64 \u001b[4mLATITUDE\u001b[0m(N_MEASUREMENT), float64 \u001b[4mLONGITUDE\u001b[0m(N_MEASUREMENT), |S1 \u001b[4mPOSITION_ACCURACY\u001b[0m(N_MEASUREMENT), |S1 \u001b[4mPOSITION_QC\u001b[0m(N_MEASUREMENT), int32 \u001b[4mCYCLE_NUMBER\u001b[0m(N_MEASUREMENT), int32 \u001b[4mCYCLE_NUMBER_ADJUSTED\u001b[0m(N_MEASUREMENT), int32 \u001b[4mMEASUREMENT_CODE\u001b[0m(N_MEASUREMENT), float32 \u001b[4mPRES\u001b[0m(N_MEASUREMENT), |S1 \u001b[4mPRES_QC\u001b[0m(N_MEASUREMENT), float32 \u001b[4mPRES_ADJUSTED\u001b[0m(N_MEASUREMENT), |S1 \u001b[4mPRES_ADJUSTED_QC\u001b[0m(N_MEASUREMENT), float32 \u001b[4mPRES_ADJUSTED_ERROR\u001b[0m(N_MEASUREMENT), float32 \u001b[4mTEMP\u001b[0m(N_MEASUREMENT), |S1 \u001b[4mTEMP_QC\u001b[0m(N_MEASUREMENT), float32 \u001b[4mTEMP_ADJUSTED\u001b[0m(N_MEASUREMENT), |S1 \u001b[4mTEMP_ADJUSTED_QC\u001b[0m(N_MEASUREMENT), float32 \u001b[4mTEMP_ADJUSTED_ERROR\u001b[0m(N_MEASUREMENT), float32 \u001b[4mPSAL\u001b[0m(N_MEASUREMENT), |S1 \u001b[4mPSAL_QC\u001b[0m(N_MEASUREMENT), float32 \u001b[4mPSAL_ADJUSTED\u001b[0m(N_MEASUREMENT), |S1 \u001b[4mPSAL_ADJUSTED_QC\u001b[0m(N_MEASUREMENT), float32 \u001b[4mPSAL_ADJUSTED_ERROR\u001b[0m(N_MEASUREMENT), float32 \u001b[4mAXES_ERROR_ELLIPSE_MAJOR\u001b[0m(N_MEASUREMENT), float32 \u001b[4mAXES_ERROR_ELLIPSE_MINOR\u001b[0m(N_MEASUREMENT), float32 \u001b[4mAXES_ERROR_ELLIPSE_ANGLE\u001b[0m(N_MEASUREMENT), |S1 \u001b[4mSATELLITE_NAME\u001b[0m(N_MEASUREMENT), float64 \u001b[4mJULD_DESCENT_START\u001b[0m(N_CYCLE), |S1 \u001b[4mJULD_DESCENT_START_STATUS\u001b[0m(N_CYCLE), float64 \u001b[4mJULD_FIRST_STABILIZATION\u001b[0m(N_CYCLE), |S1 \u001b[4mJULD_FIRST_STABILIZATION_STATUS\u001b[0m(N_CYCLE), float64 \u001b[4mJULD_DESCENT_END\u001b[0m(N_CYCLE), |S1 \u001b[4mJULD_DESCENT_END_STATUS\u001b[0m(N_CYCLE), float64 \u001b[4mJULD_PARK_START\u001b[0m(N_CYCLE), |S1 \u001b[4mJULD_PARK_START_STATUS\u001b[0m(N_CYCLE), float64 \u001b[4mJULD_PARK_END\u001b[0m(N_CYCLE), |S1 \u001b[4mJULD_PARK_END_STATUS\u001b[0m(N_CYCLE), float64 \u001b[4mJULD_DEEP_DESCENT_END\u001b[0m(N_CYCLE), |S1 \u001b[4mJULD_DEEP_DESCENT_END_STATUS\u001b[0m(N_CYCLE), float64 \u001b[4mJULD_DEEP_PARK_START\u001b[0m(N_CYCLE), |S1 \u001b[4mJULD_DEEP_PARK_START_STATUS\u001b[0m(N_CYCLE), float64 \u001b[4mJULD_ASCENT_START\u001b[0m(N_CYCLE), |S1 \u001b[4mJULD_ASCENT_START_STATUS\u001b[0m(N_CYCLE), float64 \u001b[4mJULD_DEEP_ASCENT_START\u001b[0m(N_CYCLE), |S1 \u001b[4mJULD_DEEP_ASCENT_START_STATUS\u001b[0m(N_CYCLE), float64 \u001b[4mJULD_ASCENT_END\u001b[0m(N_CYCLE), |S1 \u001b[4mJULD_ASCENT_END_STATUS\u001b[0m(N_CYCLE), float64 \u001b[4mJULD_TRANSMISSION_START\u001b[0m(N_CYCLE), |S1 \u001b[4mJULD_TRANSMISSION_START_STATUS\u001b[0m(N_CYCLE), float64 \u001b[4mJULD_FIRST_MESSAGE\u001b[0m(N_CYCLE), |S1 \u001b[4mJULD_FIRST_MESSAGE_STATUS\u001b[0m(N_CYCLE), float64 \u001b[4mJULD_FIRST_LOCATION\u001b[0m(N_CYCLE), |S1 \u001b[4mJULD_FIRST_LOCATION_STATUS\u001b[0m(N_CYCLE), float64 \u001b[4mJULD_LAST_LOCATION\u001b[0m(N_CYCLE), |S1 \u001b[4mJULD_LAST_LOCATION_STATUS\u001b[0m(N_CYCLE), float64 \u001b[4mJULD_LAST_MESSAGE\u001b[0m(N_CYCLE), |S1 \u001b[4mJULD_LAST_MESSAGE_STATUS\u001b[0m(N_CYCLE), float64 \u001b[4mJULD_TRANSMISSION_END\u001b[0m(N_CYCLE), |S1 \u001b[4mJULD_TRANSMISSION_END_STATUS\u001b[0m(N_CYCLE), float64 \u001b[4mCLOCK_OFFSET\u001b[0m(N_CYCLE), |S1 \u001b[4mGROUNDED\u001b[0m(N_CYCLE), float32 \u001b[4mREPRESENTATIVE_PARK_PRESSURE\u001b[0m(N_CYCLE), |S1 \u001b[4mREPRESENTATIVE_PARK_PRESSURE_STATUS\u001b[0m(N_CYCLE), int32 \u001b[4mCONFIG_MISSION_NUMBER\u001b[0m(N_CYCLE), int32 \u001b[4mCYCLE_NUMBER_INDEX\u001b[0m(N_CYCLE), int32 \u001b[4mCYCLE_NUMBER_INDEX_ADJUSTED\u001b[0m(N_CYCLE), |S1 \u001b[4mDATA_MODE\u001b[0m(N_CYCLE), |S1 \u001b[4mHISTORY_INSTITUTION\u001b[0m(N_HISTORY,STRING4), |S1 \u001b[4mHISTORY_STEP\u001b[0m(N_HISTORY,STRING4), |S1 \u001b[4mHISTORY_SOFTWARE\u001b[0m(N_HISTORY,STRING4), |S1 \u001b[4mHISTORY_SOFTWARE_RELEASE\u001b[0m(N_HISTORY,STRING4), |S1 \u001b[4mHISTORY_REFERENCE\u001b[0m(N_HISTORY,STRING64), |S1 \u001b[4mHISTORY_DATE\u001b[0m(N_HISTORY,DATE_TIME), |S1 \u001b[4mHISTORY_ACTION\u001b[0m(N_HISTORY,STRING4), |S1 \u001b[4mHISTORY_PARAMETER\u001b[0m(N_HISTORY,STRING16), float32 \u001b[4mHISTORY_PREVIOUS_VALUE\u001b[0m(N_HISTORY), |S1 \u001b[4mHISTORY_INDEX_DIMENSION\u001b[0m(N_HISTORY), int32 \u001b[4mHISTORY_START_INDEX\u001b[0m(N_HISTORY), int32 \u001b[4mHISTORY_STOP_INDEX\u001b[0m(N_HISTORY), |S1 \u001b[4mHISTORY_QCTEST\u001b[0m(N_HISTORY,STRING16)\n",
       "    groups: "
      ]
     },
     "execution_count": 11,
     "metadata": {},
     "output_type": "execute_result"
    }
   ],
   "source": [
    "fh1"
   ]
  },
  {
   "cell_type": "code",
   "execution_count": 20,
   "metadata": {
    "collapsed": false
   },
   "outputs": [],
   "source": [
    "lons1=fh1.variables['LONGITUDE'][:]\n",
    "lats1=fh1.variables['LATITUDE'][:]\n",
    "#displacement1=fh1.variables('')\n",
    "datetime1=fh1.variables['JULD'][:]"
   ]
  },
  {
   "cell_type": "code",
   "execution_count": 21,
   "metadata": {
    "collapsed": false
   },
   "outputs": [
    {
     "data": {
      "text/plain": [
       "masked_array(data = [10.97 -- -- -- -- -- -- -- -- -- -- -- -- -- -- 10.97 -- --],\n",
       "             mask = [False  True  True  True  True  True  True  True  True  True  True  True\n",
       "  True  True  True False  True  True],\n",
       "       fill_value = 99999.0)"
      ]
     },
     "execution_count": 21,
     "metadata": {},
     "output_type": "execute_result"
    }
   ],
   "source": [
    "lats1"
   ]
  },
  {
   "cell_type": "code",
   "execution_count": 22,
   "metadata": {
    "collapsed": false
   },
   "outputs": [
    {
     "data": {
      "text/plain": [
       "masked_array(data = [24329.96666669543 -- 2942936.1948959576 -- 24357.470104180593\n",
       " 24357.636678259634 24357.636678259634 24357.636678259634 --\n",
       " 24357.640787056032 -- 24357.806794005428 24358.067453705567\n",
       " 24358.06965277969 24358.067453705567 24358.076157409472 24358.076157409472\n",
       " --],\n",
       "             mask = [False  True False  True False False False False  True False  True False\n",
       " False False False False False  True],\n",
       "       fill_value = 999999.0)"
      ]
     },
     "execution_count": 22,
     "metadata": {},
     "output_type": "execute_result"
    }
   ],
   "source": [
    "datetime1"
   ]
  },
  {
   "cell_type": "code",
   "execution_count": null,
   "metadata": {
    "collapsed": true
   },
   "outputs": [],
   "source": []
  }
 ],
 "metadata": {
  "anaconda-cloud": {},
  "kernelspec": {
   "display_name": "Python [Root]",
   "language": "python",
   "name": "Python [Root]"
  },
  "language_info": {
   "codemirror_mode": {
    "name": "ipython",
    "version": 2
   },
   "file_extension": ".py",
   "mimetype": "text/x-python",
   "name": "python",
   "nbconvert_exporter": "python",
   "pygments_lexer": "ipython2",
   "version": "2.7.12"
  }
 },
 "nbformat": 4,
 "nbformat_minor": 0
}
